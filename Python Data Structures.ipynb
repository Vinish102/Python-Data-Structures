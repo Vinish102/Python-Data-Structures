{
 "cells": [
  {
   "cell_type": "code",
   "execution_count": 25,
   "id": "5b4ff994",
   "metadata": {},
   "outputs": [
    {
     "name": "stdout",
     "output_type": "stream",
     "text": [
      "The basic syntax is:\n",
      "string[start:end:step]\n",
      "Understanding Index Positions\n",
      "In Python, string indexing starts at 0 for the first character\n",
      "For example, in the string \"Michael Jackson\", 'M' is at index 0, 'I' is at index 1, and so on \n"
     ]
    }
   ],
   "source": [
    "# Question 1: Discuss string slicing and provide examples ?\n",
    "\n",
    "#String slicing in Python is a technique to extract parts of a string by specifying start, end, and step values \n",
    "string_slicing = \"\"\"The basic syntax is:\n",
    "string[start:end:step]\n",
    "Understanding Index Positions\n",
    "In Python, string indexing starts at 0 for the first character\n",
    "For example, in the string \"Michael Jackson\", 'M' is at index 0, 'I' is at index 1, and so on \"\"\"\n",
    "print(string_slicing)"
   ]
  },
  {
   "cell_type": "code",
   "execution_count": 2,
   "id": "a9837e54",
   "metadata": {},
   "outputs": [
    {
     "name": "stdout",
     "output_type": "stream",
     "text": [
      "Hello\n"
     ]
    }
   ],
   "source": [
    "# Basic Slicing Examples\n",
    "\n",
    "text = \"Hello World\"\n",
    "# Get first 5 characters\n",
    "print(text[0:5])  # Output: \"Hello\""
   ]
  },
  {
   "cell_type": "code",
   "execution_count": 3,
   "id": "43844b21",
   "metadata": {},
   "outputs": [
    {
     "data": {
      "text/plain": [
       "'Hello'"
      ]
     },
     "execution_count": 3,
     "metadata": {},
     "output_type": "execute_result"
    }
   ],
   "source": [
    "# Key Concepts of String Slicing\n",
    "#Positive Indexing:\n",
    "#Starts counting from the beginning of the string\n",
    "#The first character is at index 0\n",
    "#Example\n",
    "text[0:5]  #will extract \"Hello\" from \"Hello World\" "
   ]
  },
  {
   "cell_type": "code",
   "execution_count": 4,
   "id": "40765e3e",
   "metadata": {},
   "outputs": [
    {
     "name": "stdout",
     "output_type": "stream",
     "text": [
      "H\n",
      "y\n",
      "Ha\n",
      "pp\n"
     ]
    }
   ],
   "source": [
    "\"\"\"\n",
    "Negative Indexing:\n",
    "Allows you to start slicing from the end of the string\n",
    "The last character is at index -1\n",
    "Useful for extracting end portions of strings\n",
    "Optional Parameters:\n",
    "Start index: If omitted, starts from the beginning\n",
    "End index: If omitted, goes until the end\n",
    "Step value: Determines the increment between characters\n",
    "Advanced Slicing Techniques\n",
    "You can create various patterns using string slicing. For example, with the word \"Happy\", you can extract:\n",
    "\"\"\"\n",
    "word = \"Happy\"\n",
    "print(word[0])    # H\n",
    "print(word[-1])   # y\n",
    "print(word[0:2])  # Ha\n",
    "print(word[2:4])  # pp"
   ]
  },
  {
   "cell_type": "code",
   "execution_count": 27,
   "id": "f3674442",
   "metadata": {},
   "outputs": [
    {
     "name": "stdout",
     "output_type": "stream",
     "text": [
      "\n",
      "Practical Applications\n",
      "String slicing is particularly useful for:\n",
      "1)Text manipulation\n",
      "2)Data parsing\n",
      "3)Extracting specific portions of text \n",
      "4)Creating substrings for processing\n",
      "\n"
     ]
    }
   ],
   "source": [
    "#This flexibility allows for creative text manipulation\n",
    "slicing_app =\"\"\"\n",
    "Practical Applications\n",
    "String slicing is particularly useful for:\n",
    "1)Text manipulation\n",
    "2)Data parsing\n",
    "3)Extracting specific portions of text \n",
    "4)Creating substrings for processing\n",
    "\"\"\"\n",
    "print(slicing_app)"
   ]
  },
  {
   "cell_type": "code",
   "execution_count": 6,
   "id": "078f209b",
   "metadata": {},
   "outputs": [
    {
     "name": "stdout",
     "output_type": "stream",
     "text": [
      "Hlo yh\n"
     ]
    }
   ],
   "source": [
    "#Example of Step Slicing in Python Strings\n",
    "#In Python, string slicing allows you to extract specific parts of a string using a combination of start, stop, and step values. The syntax for slicing is:\n",
    "# string[start:stop:step]\n",
    "\n",
    "# Original string\n",
    "s = \"Hello, Python!\"\n",
    "# Slicing with a step of 2\n",
    "sliced_string = s[0:12:2]\n",
    "print(sliced_string)  # Output: \"Hlo yhn\""
   ]
  },
  {
   "cell_type": "code",
   "execution_count": 7,
   "id": "fc226bce",
   "metadata": {},
   "outputs": [
    {
     "name": "stdout",
     "output_type": "stream",
     "text": [
      "!nohtyP ,olleH\n"
     ]
    }
   ],
   "source": [
    "#Negative Step Example\n",
    "# Reversing the string using step -1\n",
    "reversed_string = s[::-1]\n",
    "print(reversed_string)  # Output: \"!nohtyP ,olleH\""
   ]
  },
  {
   "cell_type": "code",
   "execution_count": 8,
   "id": "3a69293f",
   "metadata": {},
   "outputs": [],
   "source": [
    "#Strings are immutable in Python\n",
    "#Each slice operation returns a new string rather than modifying the original."
   ]
  },
  {
   "cell_type": "code",
   "execution_count": 9,
   "id": "99240784",
   "metadata": {},
   "outputs": [
    {
     "data": {
      "text/plain": [
       "'\\nLists in Python are built-in data structures used to store collections of items.\\nThey are created using square brackets [ ] and can contain multiple data types.\\n'"
      ]
     },
     "execution_count": 9,
     "metadata": {},
     "output_type": "execute_result"
    }
   ],
   "source": [
    "# Question 2: Explain the key features of lists in Python ?\n",
    "\"\"\"\n",
    "Lists in Python are built-in data structures used to store collections of items.\n",
    "They are created using square brackets [ ] and can contain multiple data types.\n",
    "\"\"\""
   ]
  },
  {
   "cell_type": "code",
   "execution_count": 10,
   "id": "31a038c6",
   "metadata": {},
   "outputs": [
    {
     "data": {
      "text/plain": [
       "['apple', 'grape', 'orange']"
      ]
     },
     "execution_count": 10,
     "metadata": {},
     "output_type": "execute_result"
    }
   ],
   "source": [
    "#Key Characteristics\n",
    "#1)Mutability\n",
    "#2)Lists are mutable, meaning they can be modified after creation \n",
    "#3)Elements can be added, removed, or changed\n",
    "fruits = ['apple', 'banana', 'orange']\n",
    "fruits[1] = 'grape'  # Modifying an element\n",
    "fruits"
   ]
  },
  {
   "cell_type": "code",
   "execution_count": 28,
   "id": "1642edff",
   "metadata": {},
   "outputs": [
    {
     "name": "stdout",
     "output_type": "stream",
     "text": [
      "1\n"
     ]
    }
   ],
   "source": [
    "#Indexing and Access\n",
    "\"\"\"\n",
    "Elements are accessed using square brackets and index numbers.\n",
    "Indexing starts at 0 for the first element\n",
    "\"\"\"\n",
    "my_list = [1, 2, 3, 4, 5]\n",
    "first_item = my_list[0]  # Returns 1\n",
    "print(first_item)"
   ]
  },
  {
   "cell_type": "code",
   "execution_count": 29,
   "id": "838c2e9b",
   "metadata": {},
   "outputs": [
    {
     "name": "stdout",
     "output_type": "stream",
     "text": [
      "4\n"
     ]
    }
   ],
   "source": [
    "# List Operations Lists support various operations:\n",
    "# Creating a list\n",
    "numbers = [1, 2, 3]\n",
    "\n",
    "# Adding items\n",
    "numbers.append(4)      # Adds to end\n",
    "numbers.insert(0, 0)   # Adds at specific index\n",
    "\n",
    "# Removing items\n",
    "numbers.remove(3)      # Removes specific value\n",
    "popped_item = numbers.pop()  # Removes and returns last item\n",
    "print(popped_item)"
   ]
  },
  {
   "cell_type": "code",
   "execution_count": 30,
   "id": "96866eef",
   "metadata": {},
   "outputs": [
    {
     "name": "stdout",
     "output_type": "stream",
     "text": [
      "\n",
      "Common list methods include:\n",
      "append(): Add item to end\n",
      "insert(): Add item at specific position\n",
      "remove(): Remove specific item\n",
      "pop(): Remove item at specific index\n",
      "len(): Get list length\n",
      "\n"
     ]
    }
   ],
   "source": [
    "\n",
    "list_methods = \"\"\"\n",
    "Common list methods include:\n",
    "append(): Add item to end\n",
    "insert(): Add item at specific position\n",
    "remove(): Remove specific item\n",
    "pop(): Remove item at specific index\n",
    "len(): Get list length\n",
    "\"\"\"\n",
    "print(list_methods)"
   ]
  },
  {
   "cell_type": "code",
   "execution_count": 31,
   "id": "abc538c3",
   "metadata": {},
   "outputs": [
    {
     "name": "stdout",
     "output_type": "stream",
     "text": [
      "[1, 2, 3, 4]\n"
     ]
    }
   ],
   "source": [
    "\"\"\"\n",
    "Lists can:\n",
    "Store different types of data together\n",
    "Be nested (lists within lists)\n",
    "Be used to create other data structures\n",
    "\"\"\"\n",
    "# Example of List Operations\n",
    "\n",
    "# Creating a mixed-type list\n",
    "mixed_list = [1, \"hello\", 3.14, True]\n",
    "\n",
    "# List slicing\n",
    "subset = mixed_list[1:3]\n",
    "\n",
    "# List concatenation\n",
    "list1 = [1, 2]\n",
    "list2 = [3, 4]\n",
    "combined = list1 + list2\n",
    "print(combined)"
   ]
  },
  {
   "cell_type": "code",
   "execution_count": 32,
   "id": "561db465",
   "metadata": {},
   "outputs": [
    {
     "name": "stdout",
     "output_type": "stream",
     "text": [
      "\n",
      "Common Applications\n",
      "Lists are commonly used for:\n",
      "Storing collections of related items\n",
      "Managing data in sequences\n",
      "Building more complex data structures\n",
      "Implementing algorithms and data processing\n",
      "\n"
     ]
    }
   ],
   "source": [
    "\n",
    "list_apps = \"\"\"\n",
    "Common Applications\n",
    "Lists are commonly used for:\n",
    "Storing collections of related items\n",
    "Managing data in sequences\n",
    "Building more complex data structures\n",
    "Implementing algorithms and data processing\n",
    "\"\"\"\n",
    "print(list_apps)"
   ]
  },
  {
   "cell_type": "code",
   "execution_count": 16,
   "id": "a5afd0a0",
   "metadata": {},
   "outputs": [],
   "source": [
    "# Question 3: Describe how to access, modify, and delete elements in a list with examples ?\n",
    "\n",
    "#Accessing List Elements\n",
    "#Using Positive Index\n",
    "\n",
    "fruits = ['apple', 'banana', 'orange', 'grape']\n",
    "first_fruit = fruits[0]    # Returns 'apple'\n",
    "second_fruit = fruits[1]   # Returns 'banana'\n",
    "\n",
    "#Using Negative Index\n",
    "\n",
    "last_fruit = fruits[-1]    # Returns 'grape'\n",
    "second_last = fruits[-2]   # Returns 'orange'\n",
    "\n",
    "# Modifying List Elements\n",
    "#Direct Assignment\n",
    "numbers = [1, 2, 3, 4, 5]\n",
    "numbers[2] = 10           # Changes 3 to 10\n",
    "\n",
    "#Using Methods to Add Elements\n",
    "fruits = ['apple', 'banana']\n",
    "# Append to end\n",
    "fruits.append('orange')    # ['apple', 'banana', 'orange']\n",
    "\n",
    "# Insert at specific position\n",
    "fruits.insert(1, 'mango') # ['apple', 'mango', 'banana', 'orange']\n",
    "\n",
    "#Deleting List Elements\n",
    "#Using del Statement\n",
    "\n",
    "numbers = [1, 2, 3, 4, 5]\n",
    "del numbers[2]    # Removes element at index 2\n",
    "\n",
    "#Using remove() Method\n",
    "\n",
    "fruits = ['apple', 'banana', 'orange']\n",
    "fruits.remove('banana')    # Removes first occurrence of 'banana'\n",
    "\n",
    "#Using pop() Method\n",
    "\n",
    "numbers = [1, 2, 3, 4]\n",
    "last_num = numbers.pop()    # Removes and returns last element\n",
    "specific_num = numbers.pop(1)    # Removes and returns element at index 1\n",
    "\n",
    "#Clearing Entire List\n",
    "\n",
    "fruits = ['apple', 'banana', 'orange']\n",
    "fruits.clear()    # Empties the list\n",
    "\n",
    "#List Slicing for Multiple Elements\n",
    "\n",
    "numbers = [1, 2, 3, 4, 5]\n",
    "subset = numbers[1:4]    # Gets elements from index 1 to 3\n",
    "#Lists are mutable, so any modifications directly affect the original list. \n",
    "#When you need to preserve the original list, create a copy before making modifications."
   ]
  },
  {
   "cell_type": "code",
   "execution_count": 33,
   "id": "15fe5590",
   "metadata": {},
   "outputs": [
    {
     "name": "stdout",
     "output_type": "stream",
     "text": [
      "\n",
      "Key Differences\n",
      "Mutability\n",
      "Lists are mutable (can be modified after creation)\n",
      "Tuples are immutable (cannot be changed after creation)\n",
      "Syntax\n",
      "Lists are denoted by square brackets []\n",
      "Tuples are denoted by parentheses ()\n",
      "Performance\n",
      "Tuples are generally faster than lists due to their static nature.\n",
      "This makes them more efficient for:\n",
      "Storing constant data\n",
      "Using as dictionary keys\n",
      "Data that shouldn't be modified\n",
      "\n"
     ]
    }
   ],
   "source": [
    "# Question 4: Compare and contrast tuples and lists with examples ?\n",
    "\n",
    "#Lists and Tuples are both Python data structures used to store collections of items in a single variable.\n",
    "#However, they have some fundamental differences in their characteristics and use cases.\n",
    "key_differences =\"\"\"\n",
    "Key Differences\n",
    "Mutability\n",
    "Lists are mutable (can be modified after creation)\n",
    "Tuples are immutable (cannot be changed after creation)\n",
    "Syntax\n",
    "Lists are denoted by square brackets []\n",
    "Tuples are denoted by parentheses ()\n",
    "Performance\n",
    "Tuples are generally faster than lists due to their static nature.\n",
    "This makes them more efficient for:\n",
    "Storing constant data\n",
    "Using as dictionary keys\n",
    "Data that shouldn't be modified\n",
    "\"\"\"\n",
    "print(key_differences)\n",
    "\n",
    "\n"
   ]
  },
  {
   "cell_type": "code",
   "execution_count": 18,
   "id": "4a15df8b",
   "metadata": {},
   "outputs": [
    {
     "name": "stdout",
     "output_type": "stream",
     "text": [
      "[10, 2, 3]\n"
     ]
    }
   ],
   "source": [
    "# List example\n",
    "my_list = [1, 2, 3]\n",
    "my_list[0] = 10  # Valid - lists are mutable\n",
    "print(my_list)  # Output: [10, 2, 3]"
   ]
  },
  {
   "cell_type": "code",
   "execution_count": 19,
   "id": "4460dbf5",
   "metadata": {},
   "outputs": [
    {
     "name": "stdout",
     "output_type": "stream",
     "text": [
      "(1, 2, 3)\n"
     ]
    }
   ],
   "source": [
    "# Tuple example\n",
    "my_tuple = (1, 2, 3)\n",
    "# my_tuple[0] = 10  # Invalid - will raise TypeError\n",
    "print(my_tuple)  # Output: (1, 2, 3)"
   ]
  },
  {
   "cell_type": "code",
   "execution_count": 20,
   "id": "e5acbab3",
   "metadata": {},
   "outputs": [
    {
     "data": {
      "text/plain": [
       "\"\\nUse Lists when:\\n1)You need to modify the collection\\n2)You're working with dynamic data\\n3)You need to add or remove elements\\n\""
      ]
     },
     "execution_count": 20,
     "metadata": {},
     "output_type": "execute_result"
    }
   ],
   "source": [
    "\"\"\"\n",
    "Use Lists when:\n",
    "1)You need to modify the collection\n",
    "2)You're working with dynamic data\n",
    "3)You need to add or remove elements\n",
    "\"\"\""
   ]
  },
  {
   "cell_type": "code",
   "execution_count": 21,
   "id": "ad7d94fe",
   "metadata": {},
   "outputs": [
    {
     "data": {
      "text/plain": [
       "\"\\nUse Tuples when:\\n1)You want to ensure data remains unchanged\\n2)You're storing constant values\\n3)You need better performance\\n4)You're using the collection as a dictionary key\\n\""
      ]
     },
     "execution_count": 21,
     "metadata": {},
     "output_type": "execute_result"
    }
   ],
   "source": [
    "\"\"\"\n",
    "Use Tuples when:\n",
    "1)You want to ensure data remains unchanged\n",
    "2)You're storing constant values\n",
    "3)You need better performance\n",
    "4)You're using the collection as a dictionary key\n",
    "\"\"\""
   ]
  },
  {
   "cell_type": "code",
   "execution_count": 22,
   "id": "301b96a8",
   "metadata": {},
   "outputs": [
    {
     "data": {
      "text/plain": [
       "'\\n* Additional Features\\n1)Both lists and tuples can contain elements of different data types\\n2)Both support indexing and slicing operations\\n3)Both can be nested (contain other lists or tuples)\\nThis comparison should help you choose the appropriate data structure for your specific use case in Python programming.\\n'"
      ]
     },
     "execution_count": 22,
     "metadata": {},
     "output_type": "execute_result"
    }
   ],
   "source": [
    "\"\"\"\n",
    "* Additional Features\n",
    "1)Both lists and tuples can contain elements of different data types\n",
    "2)Both support indexing and slicing operations\n",
    "3)Both can be nested (contain other lists or tuples)\n",
    "This comparison should help you choose the appropriate data structure for your specific use case in Python programming.\n",
    "\"\"\""
   ]
  },
  {
   "cell_type": "code",
   "execution_count": 23,
   "id": "88c15975",
   "metadata": {},
   "outputs": [],
   "source": [
    "my_list = [1, 2, 3]\n",
    "\n",
    "# List-specific methods\n",
    "my_list.append(4)    # Adds element at end\n",
    "my_list.insert(0, 0) # Inserts element at index\n",
    "my_list.remove(2)    # Removes first occurrence\n",
    "my_list.pop()        # Removes and returns last element\n",
    "my_list.sort()       # Sorts the list in-place\n",
    "my_list.reverse()    # Reverses the list in-place"
   ]
  },
  {
   "cell_type": "code",
   "execution_count": 34,
   "id": "7583d988",
   "metadata": {},
   "outputs": [
    {
     "data": {
      "text/plain": [
       "(1, 2, 3, 4, 5, 6)"
      ]
     },
     "execution_count": 34,
     "metadata": {},
     "output_type": "execute_result"
    }
   ],
   "source": [
    "#Tuple Methods\n",
    "#Tuples have fewer methods due to their immutable nature. The main methods available for tuples are:\n",
    "my_tuple = (1, 2, 2, 3)\n",
    "\n",
    "# Tuple methods\n",
    "my_tuple.count(2)    # Counts occurrences of an element\n",
    "my_tuple.index(3)    # Finds index of first occurrence\n",
    "\n",
    "\n",
    "#Common Operations (Available for Both)\n",
    "#Both lists and tuples support these operations:\n",
    "# Indexing\n",
    "my_list[0]    # Access first element\n",
    "my_tuple[0]   # Access first element\n",
    "\n",
    "# Slicing\n",
    "my_list[1:3]  # Get subset of elements\n",
    "my_tuple[1:3] # Get subset of elements\n",
    "\n",
    "# Concatenation\n",
    "list1 = [1,2,3]\n",
    "list2 = [4,5,6]\n",
    "tuple1 = (1,2,3)\n",
    "tuple2 = (4,5,6)\n",
    "list1 + list2  # Combines two lists\n",
    "tuple1 + tuple2 # Combines two tuples"
   ]
  },
  {
   "cell_type": "code",
   "execution_count": 35,
   "id": "1556ec9b",
   "metadata": {},
   "outputs": [
    {
     "data": {
      "text/plain": [
       "'\\nPerformance Considerations:\\na)Tuples generally have better performance for iteration and lookup operations due to their immutable nature\\nb)Lists require extra memory allocation for potential modifications, while tuples have a fixed size\\n'"
      ]
     },
     "execution_count": 35,
     "metadata": {},
     "output_type": "execute_result"
    }
   ],
   "source": [
    "\"\"\"\n",
    "Performance Considerations:\n",
    "a)Tuples generally have better performance for iteration and lookup operations due to their immutable nature\n",
    "b)Lists require extra memory allocation for potential modifications, while tuples have a fixed size\n",
    "\"\"\""
   ]
  },
  {
   "cell_type": "code",
   "execution_count": 36,
   "id": "080b1d9d",
   "metadata": {},
   "outputs": [
    {
     "data": {
      "text/plain": [
       "'\\n* Both data structures can be nested, meaning you can have:\\nLists within lists\\nTuples within tuples\\nLists of tuples\\nTuples of lists\\nThis flexibility allows you to create complex data structures while maintaining the appropriate mutability characteristics for your specific needs.\\n'"
      ]
     },
     "execution_count": 36,
     "metadata": {},
     "output_type": "execute_result"
    }
   ],
   "source": [
    "\"\"\"\n",
    "* Both data structures can be nested, meaning you can have:\n",
    "Lists within lists\n",
    "Tuples within tuples\n",
    "Lists of tuples\n",
    "Tuples of lists\n",
    "This flexibility allows you to create complex data structures while maintaining the appropriate mutability characteristics for your specific needs.\n",
    "\"\"\""
   ]
  },
  {
   "cell_type": "code",
   "execution_count": 37,
   "id": "c08a7262",
   "metadata": {},
   "outputs": [
    {
     "name": "stdout",
     "output_type": "stream",
     "text": [
      "{'banana', 'cherry', 'apple'}\n",
      "{'banana', 'cherry', 'orange', 'apple'}\n",
      "{'cherry', 'orange', 'apple'}\n",
      "True\n",
      "False\n",
      "{1, 2, 3, 4, 5}\n",
      "{3}\n",
      "{1, 2}\n",
      "{1, 2, 4, 5}\n"
     ]
    }
   ],
   "source": [
    "#Question 5: Describe the key features of sets and provide examples of their use ?\n",
    "\n",
    "#Sets in Python are a powerful data structure that offer unique features and operations, making them suitable for specific use cases. \n",
    "#Here are the key features of sets in Python, along with examples of their use:\n",
    "#Key Features of Sets\n",
    "\"\"\"\n",
    "* Unordered Collection:\n",
    "Sets are unordered, meaning that the items do not have a defined order. You cannot access items in a set by index.\n",
    "* Unique Elements:\n",
    "Sets automatically ensure that all elements are unique. If you try to add a duplicate element, it will be ignored.\n",
    "* Mutable:\n",
    "While the elements themselves must be immutable (e.g., numbers, strings, tuples), the set itself is mutable, allowing you to add or remove elements.\n",
    "* Optimized for Membership Testing:\n",
    "Sets are highly optimized for checking whether an element is part of the set, making them efficient for membership tests.\n",
    "* Mathematical Set Operations:\n",
    "Sets support operations like union, intersection, difference, and symmetric difference, which are analogous to mathematical set operations .\n",
    "\"\"\"\n",
    "\n",
    "#Examples of Set Usage\n",
    "\n",
    "# Creating a set\n",
    "fruits = {\"apple\", \"banana\", \"cherry\"}\n",
    "print(fruits)  # Output: {'banana', 'cherry', 'apple'}\n",
    "\n",
    "# Adding elements\n",
    "fruits.add(\"orange\")\n",
    "print(fruits)  # Output: {'banana', 'cherry', 'apple', 'orange'}\n",
    "\n",
    "# Removing elements\n",
    "fruits.remove(\"banana\")\n",
    "print(fruits)  # Output: {'cherry', 'apple', 'orange'}\n",
    "\n",
    "# Membership testing\n",
    "print(\"apple\" in fruits)  # Output: True\n",
    "print(\"banana\" in fruits)  # Output: False\n",
    "\n",
    "# Set operations\n",
    "set_a = {1, 2, 3}\n",
    "set_b = {3, 4, 5}\n",
    "\n",
    "# Union\n",
    "print(set_a | set_b)  # Output: {1, 2, 3, 4, 5}\n",
    "\n",
    "# Intersection\n",
    "print(set_a & set_b)  # Output: {3}\n",
    "\n",
    "# Difference\n",
    "print(set_a - set_b)  # Output: {1, 2}\n",
    "\n",
    "# Symmetric Difference\n",
    "print(set_a ^ set_b)  # Output: {1, 2, 4, 5}"
   ]
  },
  {
   "cell_type": "code",
   "execution_count": 38,
   "id": "79901eca",
   "metadata": {},
   "outputs": [
    {
     "data": {
      "text/plain": [
       "'\\nUse Cases for Sets\\n* Removing Duplicates: Quickly remove duplicates from a list by converting it to a set.\\n* Membership Testing: Efficiently check if an item exists in a collection.\\n* Mathematical Operations: Perform operations like union and intersection on data sets.\\n* Sets are particularly useful when you need to manage collections of unique items and perform operations that involve comparing different groups of data.\\n'"
      ]
     },
     "execution_count": 38,
     "metadata": {},
     "output_type": "execute_result"
    }
   ],
   "source": [
    "\"\"\"\n",
    "Use Cases for Sets\n",
    "* Removing Duplicates: Quickly remove duplicates from a list by converting it to a set.\n",
    "* Membership Testing: Efficiently check if an item exists in a collection.\n",
    "* Mathematical Operations: Perform operations like union and intersection on data sets.\n",
    "* Sets are particularly useful when you need to manage collections of unique items and perform operations that involve comparing different groups of data.\n",
    "\"\"\""
   ]
  },
  {
   "cell_type": "code",
   "execution_count": 39,
   "id": "6bb48ddc",
   "metadata": {},
   "outputs": [
    {
     "name": "stdout",
     "output_type": "stream",
     "text": [
      "555-1234\n"
     ]
    }
   ],
   "source": [
    "# Question 6: Discuss the use cases of tuples and sets in Python programming ?\n",
    "\n",
    "#Use Cases for Tuples\n",
    "# *Immutable Data Storage:\n",
    "#Tuples are ideal for storing data that should not change throughout the program. \n",
    "#This immutability ensures data integrity and can prevent accidental modifications.\n",
    "\n",
    "coordinates = (40.7128, -74.0060)  # Latitude and longitude\n",
    "# *Dictionary Keys:\n",
    "#Tuples can be used as keys in dictionaries because they are immutable. \n",
    "#This is useful when you need a composite key made up of multiple elements.\n",
    "\n",
    "phone_book = {(\"John\", \"Doe\"): \"555-1234\", (\"Jane\", \"Doe\"): \"555-5678\"}\n",
    "print(phone_book[(\"John\", \"Doe\")])  # Output: 555-1234\n",
    "\n",
    "# *Data Organization:\n",
    "#Tuples can be used to group related data together, especially when the data is heterogeneous (different types).\n",
    "\n",
    "person = (\"Alice\", 30, \"Engineer\")\n"
   ]
  },
  {
   "cell_type": "code",
   "execution_count": 40,
   "id": "bab25494",
   "metadata": {},
   "outputs": [
    {
     "name": "stdout",
     "output_type": "stream",
     "text": [
      "{1, 2, 3, 4, 5}\n"
     ]
    }
   ],
   "source": [
    "#Use Cases for Sets\n",
    "# *Removing Duplicates:\n",
    "#Sets automatically handle duplicates, making them perfect for filtering unique items from a collection.\n",
    "\n",
    "numbers = [1, 2, 2, 3, 4, 4, 5]\n",
    "unique_numbers = set(numbers)\n",
    "print(unique_numbers)  # Output: {1, 2, 3, 4, 5}\n",
    "\n",
    "\n"
   ]
  },
  {
   "cell_type": "code",
   "execution_count": 41,
   "id": "2bf9b72d",
   "metadata": {},
   "outputs": [
    {
     "name": "stdout",
     "output_type": "stream",
     "text": [
      "True\n"
     ]
    }
   ],
   "source": [
    "# *Membership Testing:\n",
    "#Sets provide efficient membership testing, which is useful when you need to check if an item exists in a collection.\n",
    "\n",
    "fruits = {\"apple\", \"banana\", \"cherry\"}\n",
    "print(\"apple\" in fruits)  # Output: True"
   ]
  },
  {
   "cell_type": "code",
   "execution_count": 42,
   "id": "88ad6720",
   "metadata": {},
   "outputs": [],
   "source": [
    "# *Mathematical Set Operations:\n",
    "#Sets support operations like union, intersection, and difference, which are useful for tasks involving comparisons between groups of data.\n",
    "\n",
    "set_a = {1, 2, 3}\n",
    "set_b = {3, 4, 5}\n",
    "\n",
    "union = set_a | set_b  # {1, 2, 3, 4, 5}\n",
    "intersection = set_a & set_b  # {3}\n",
    "difference = set_a - set_b  # {1, 2}"
   ]
  },
  {
   "cell_type": "code",
   "execution_count": 43,
   "id": "6334c61c",
   "metadata": {},
   "outputs": [
    {
     "data": {
      "text/plain": [
       "'\\n* Data Integrity:\\nSets can be used to ensure that a collection of items remains unique, which is useful in scenarios like maintaining a list of unique user IDs or product codes.\\nThese examples demonstrate how tuples and sets can be effectively used in Python programming to manage data efficiently and ensure data integrity. \\nEach data structure has its strengths, making them suitable for different scenarios based on the requirements of your application.\\n'"
      ]
     },
     "execution_count": 43,
     "metadata": {},
     "output_type": "execute_result"
    }
   ],
   "source": [
    "\"\"\"\n",
    "* Data Integrity:\n",
    "Sets can be used to ensure that a collection of items remains unique, which is useful in scenarios like maintaining a list of unique user IDs or product codes.\n",
    "These examples demonstrate how tuples and sets can be effectively used in Python programming to manage data efficiently and ensure data integrity. \n",
    "Each data structure has its strengths, making them suitable for different scenarios based on the requirements of your application.\n",
    "\"\"\""
   ]
  },
  {
   "cell_type": "code",
   "execution_count": 44,
   "id": "3d48b623",
   "metadata": {},
   "outputs": [
    {
     "name": "stdout",
     "output_type": "stream",
     "text": [
      "{'Germany': 'Berlin', 'Canada': 'Ottawa', 'Italy': 'Rome'}\n"
     ]
    }
   ],
   "source": [
    "# Question 7: Describe how to add, modify, and delete items in a dictionary with examples ?\n",
    "\n",
    "#Adding Items to a Dictionary\n",
    "#To add an item to a dictionary, you can simply assign a value to a new key using square brackets [].\n",
    "\n",
    "# Example of adding an item\n",
    "country_capitals = {\"Germany\": \"Berlin\", \"Canada\": \"Ottawa\"}\n",
    "country_capitals[\"Italy\"] = \"Rome\"  # Adding a new key-value pair\n",
    "print(country_capitals)  # Output: {'Germany': 'Berlin', 'Canada': 'Ottawa', 'Italy': 'Rome'}\n",
    "\n"
   ]
  },
  {
   "cell_type": "code",
   "execution_count": 45,
   "id": "887dbc80",
   "metadata": {},
   "outputs": [
    {
     "name": "stdout",
     "output_type": "stream",
     "text": [
      "{'Germany': 'Munich', 'Canada': 'Ottawa', 'Italy': 'Rome'}\n"
     ]
    }
   ],
   "source": [
    "# *Modifying Items in a Dictionary\n",
    "#To modify an existing item, you assign a new value to an existing key.\n",
    "\n",
    "# Example of modifying an item\n",
    "country_capitals[\"Germany\"] = \"Munich\"  # Modifying the value for the key \"Germany\"\n",
    "print(country_capitals)  # Output: {'Germany': 'Munich', 'Canada': 'Ottawa', 'Italy': 'Rome'}"
   ]
  },
  {
   "cell_type": "code",
   "execution_count": 46,
   "id": "65021571",
   "metadata": {},
   "outputs": [
    {
     "name": "stdout",
     "output_type": "stream",
     "text": [
      "{'Germany': 'Munich', 'Italy': 'Rome'}\n"
     ]
    }
   ],
   "source": [
    "\"\"\"\n",
    "Deleting Items from a Dictionary\n",
    "There are several ways to remove items from a dictionary:\n",
    "#Using del Statement:\n",
    "Removes the item with the specified key.\n",
    "\"\"\"\n",
    "# Example of deleting an item using del\n",
    "del country_capitals[\"Canada\"]\n",
    "print(country_capitals)  # Output: {'Germany': 'Munich', 'Italy': 'Rome'}"
   ]
  },
  {
   "cell_type": "code",
   "execution_count": 47,
   "id": "a4b249c9",
   "metadata": {},
   "outputs": [
    {
     "name": "stdout",
     "output_type": "stream",
     "text": [
      "Rome\n",
      "{'Germany': 'Munich'}\n"
     ]
    }
   ],
   "source": [
    "# Using pop() Method:\n",
    "#Removes the item with the specified key and returns its value.\n",
    "\n",
    "# Example of deleting an item using pop\n",
    "capital = country_capitals.pop(\"Italy\")\n",
    "print(capital)  # Output: Rome\n",
    "print(country_capitals)  # Output: {'Germany': 'Munich'}"
   ]
  },
  {
   "cell_type": "code",
   "execution_count": 48,
   "id": "9b3b335e",
   "metadata": {},
   "outputs": [
    {
     "name": "stdout",
     "output_type": "stream",
     "text": [
      "{}\n"
     ]
    }
   ],
   "source": [
    "#Using clear() Method:\n",
    "#Removes all items from the dictionary.\n",
    "# Example of clearing a dictionary\n",
    "country_capitals.clear()\n",
    "print(country_capitals)  # Output: {}\n",
    "#These methods provide flexibility in managing the contents of a dictionary, allowing you to efficiently add, modify, and remove items as needed."
   ]
  },
  {
   "cell_type": "code",
   "execution_count": 49,
   "id": "9facc7c2",
   "metadata": {},
   "outputs": [],
   "source": [
    "# Question 8: Discuss the importance of dictionary keys being immutable and provide examples ?\n",
    "\n",
    "#In Python, dictionary keys must be immutable, and this requirement is crucial for several reasons related to the internal workings of dictionaries and their efficiency. \n",
    "#Let's explore why immutability is important for dictionary keys and provide examples to illustrate these concepts.\n",
    "\n",
    "#Here are some examples of immutable objects that can be used as dictionary keys:\n",
    "# *Strings:\n",
    "my_dict = {\"name\": \"Alice\", \"age\": 30}\n",
    "\n",
    "# *Numbers (integers, floats):\n",
    "my_dict = {1: \"one\", 2: \"two\"}\n",
    "\n",
    "# *Tuples:\n",
    "my_dict = {(1, 2): \"coordinates\", (3, 4): \"more coordinates\"}\n",
    "\n",
    "#Attempting to Use Mutable Keys\n",
    "#If you try to use a mutable object, like a list or a dictionary, as a key, \n",
    "#Python will raise a TypeError because these objects do not have a stable hash value:\n",
    "\n",
    "\n",
    "#In summary, the immutability of dictionary keys is essential for maintaining the efficiency, integrity, and reliability of Python dictionaries. \n",
    "#This design choice ensures that dictionaries can perform fast lookups and maintain consistent behavior across operations."
   ]
  },
  {
   "cell_type": "code",
   "execution_count": 50,
   "id": "8c8a27dc",
   "metadata": {},
   "outputs": [
    {
     "data": {
      "text/plain": [
       "\"\\n* Importance of Immutable Dictionary Keys\\n1)Hashing Requirement:\\nDictionaries in Python are implemented as hash tables. \\nEach key is hashed to determine its index in the table. \\nImmutable objects have a fixed hash value, which ensures that the key can be reliably located in the hash table. \\nIf keys were mutable, their hash values could change, leading to difficulties in locating the key-value pair \\n2)Data Integrity:\\nImmutable keys ensure the integrity of the dictionary's structure. If a key could change, it would disrupt the mapping of keys to values, potentially leading to data corruption or loss of data integrity \\n.\\nEfficiency:\\nImmutable keys allow for efficient lookups and operations. Since the hash value of a key remains constant, the dictionary can quickly compute the index and retrieve the associated value without needing to rehash the key \\n.\\nConsistency:\\nUsing immutable keys ensures consistent behavior across dictionary operations. This consistency is crucial for maintaining predictable and reliable code.\\nExamples of Immutable Keys\\n\""
      ]
     },
     "execution_count": 50,
     "metadata": {},
     "output_type": "execute_result"
    }
   ],
   "source": [
    "\"\"\"\n",
    "* Importance of Immutable Dictionary Keys\n",
    "1)Hashing Requirement:\n",
    "Dictionaries in Python are implemented as hash tables. \n",
    "Each key is hashed to determine its index in the table. \n",
    "Immutable objects have a fixed hash value, which ensures that the key can be reliably located in the hash table. \n",
    "If keys were mutable, their hash values could change, leading to difficulties in locating the key-value pair \n",
    "2)Data Integrity:\n",
    "Immutable keys ensure the integrity of the dictionary's structure. If a key could change, it would disrupt the mapping of keys to values, potentially leading to data corruption or loss of data integrity \n",
    ".\n",
    "Efficiency:\n",
    "Immutable keys allow for efficient lookups and operations. Since the hash value of a key remains constant, the dictionary can quickly compute the index and retrieve the associated value without needing to rehash the key \n",
    ".\n",
    "Consistency:\n",
    "Using immutable keys ensures consistent behavior across dictionary operations. This consistency is crucial for maintaining predictable and reliable code.\n",
    "Examples of Immutable Keys\n",
    "\"\"\""
   ]
  }
 ],
 "metadata": {
  "kernelspec": {
   "display_name": "Python 3 (ipykernel)",
   "language": "python",
   "name": "python3"
  },
  "language_info": {
   "codemirror_mode": {
    "name": "ipython",
    "version": 3
   },
   "file_extension": ".py",
   "mimetype": "text/x-python",
   "name": "python",
   "nbconvert_exporter": "python",
   "pygments_lexer": "ipython3",
   "version": "3.11.5"
  }
 },
 "nbformat": 4,
 "nbformat_minor": 5
}
